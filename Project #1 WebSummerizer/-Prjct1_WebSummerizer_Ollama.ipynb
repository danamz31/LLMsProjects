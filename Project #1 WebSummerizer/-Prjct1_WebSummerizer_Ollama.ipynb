{
 "cells": [
  {
   "cell_type": "code",
   "execution_count": 1,
   "id": "003ee65b-5d66-4d50-8747-e652617a6c18",
   "metadata": {},
   "outputs": [],
   "source": [
    "import os\n",
    "from pprint import pprint\n",
    "from IPython.display import Markdown, display\n",
    "import requests\n",
    "from requests.models import Response\n",
    "from bs4 import BeautifulSoup"
   ]
  },
  {
   "cell_type": "code",
   "execution_count": 2,
   "id": "052a5977-779c-484a-90c8-5b63911f20ba",
   "metadata": {},
   "outputs": [],
   "source": [
    "def _msg(role, content): #returns a dict\n",
    "    return {'role':role, 'content':content}\n",
    "\n",
    "def user(content):\n",
    "    return _msg('user', content)\n",
    "\n",
    "def system(content):\n",
    "    return _msg('system', content)\n",
    "\n",
    "def assistant(content):\n",
    "    return _msg('assistant', content)\n",
    "\n",
    "def payload(*,MODEL,chat_history, stream):\n",
    "    return {\n",
    "        \"model\": MODEL,\n",
    "        \"messages\": chat_history,\n",
    "        \"stream\": stream\n",
    "    }"
   ]
  },
  {
   "cell_type": "markdown",
   "id": "d598eb6e-ad09-406c-8ab5-6e46b9a72cce",
   "metadata": {},
   "source": [
    "# Caching"
   ]
  },
  {
   "cell_type": "code",
   "execution_count": 3,
   "id": "02fe223d-d969-4816-acd4-5c907fc3ef82",
   "metadata": {},
   "outputs": [],
   "source": [
    "from diskcache import Cache\n",
    "# cache = Cache() --> this is a temporary cache where it's not saved when the program is restart\n",
    "cache = Cache(directory = '.ollama_websummerizer_caching') # This is not a temporary where tha cache is saved in a directory\n",
    "                                                # and can be accessed any time\n"
   ]
  },
  {
   "cell_type": "code",
   "execution_count": 4,
   "id": "5f844fe9-39d3-4f70-a459-3186810438d7",
   "metadata": {},
   "outputs": [],
   "source": [
    "from hashlib import md5\n",
    "import json\n",
    "# print(md5(b'dana the one').hexdigest())\n",
    "# md5 works with only str\n",
    "\n",
    "def cache_key(key, **kwargs):\n",
    "    kwargs_str = json.dumps(kwargs, sort_keys = True)\n",
    "    kwargs_hashed = md5(kwargs_str.encode('utf-8')).hexdigest()\n",
    "    hashed_key = f'{key}__{kwargs_hashed}'\n",
    "    return hashed_key\n",
    "\n",
    "def _ollama_request_cache_key(*, OLLAMA_API, json, headers, **kwargs): # the first * to make the function only accepts key words args\n",
    "    return cache_key('ollama_request', OLLAMA_API = OLLAMA_API, json = json, headers = headers, **kwargs)"
   ]
  },
  {
   "cell_type": "code",
   "execution_count": 5,
   "id": "e71c866e-0ddb-46e3-a646-86a7defbee79",
   "metadata": {},
   "outputs": [],
   "source": [
    "def response_type(data_dict, status_code = 200):\n",
    "    response = Response()\n",
    "    response.status_code = status_code\n",
    "    response._content = json.dumps(data_dict).encode('utf-8')\n",
    "    response.headers['Content-Type'] = 'application/json'\n",
    "    return response"
   ]
  },
  {
   "cell_type": "code",
   "execution_count": 6,
   "id": "c59015c6-0af1-471d-bfd7-4c36fcc7abbe",
   "metadata": {},
   "outputs": [],
   "source": [
    "from openai.types.chat import ChatCompletion\n",
    "from functools import update_wrapper\n",
    "CACHE_MISS_SENTINEL = object() # we need to create sth that can be created ONLY once and can't be created accidentally anytime, like a memory address => an object\n",
    "\n",
    "def cached_ollama_post_request(*, OLLAMA_API, json, headers, **kwargs) -> ChatCompletion : # the 'async' because we want to use async functions\n",
    "    # MAKE KEY\n",
    "    cache_key = _ollama_request_cache_key(OLLAMA_API = OLLAMA_API, json = json, headers = headers, **kwargs)\n",
    "    cached_value = cache.get(cache_key, default = CACHE_MISS_SENTINEL) # we will use this as default when the key can't be found in the cache\n",
    "    \n",
    "    # CACHE MISS\n",
    "    if cached_value is CACHE_MISS_SENTINEL:\n",
    "        response = requests.post(OLLAMA_API, json=json, headers=headers, **kwargs) # a) make post request\n",
    "        cache.set(cache_key, response.json()) # b) set the output in the cache\n",
    "        return response # this is a chat completion type\n",
    "\n",
    "    # CACHE HIT\n",
    "    else:\n",
    "        return response_type(cached_value) # Cached Value is the vlue we need\n",
    "\n",
    "cached_chat_completion = update_wrapper(cached_ollama_post_request, requests.post) # for auto completion"
   ]
  },
  {
   "cell_type": "markdown",
   "id": "407ed98a-ec7f-4106-ad92-199aa7b9de1e",
   "metadata": {},
   "source": [
    "# Practice"
   ]
  },
  {
   "cell_type": "code",
   "execution_count": 7,
   "id": "adf03066-9b1a-4db1-ae49-bb0b0037b4dc",
   "metadata": {},
   "outputs": [],
   "source": [
    "OLLAMA_API = \"http://localhost:11434/api/chat\"\n",
    "HEADERS = {\"Content-Type\": \"application/json\"}\n",
    "MODEL = \"llama3.2\""
   ]
  },
  {
   "cell_type": "code",
   "execution_count": 8,
   "id": "b5806453-3018-4b16-9c6b-abdb916642e2",
   "metadata": {},
   "outputs": [
    {
     "name": "stdout",
     "output_type": "stream",
     "text": [
      "[{'content': 'Describe some of the business applications of Generative AI',\n",
      "  'role': 'user'}]\n"
     ]
    }
   ],
   "source": [
    "chat_history = [\n",
    "    user('Describe some of the business applications of Generative AI')\n",
    "]\n",
    "pprint(chat_history)"
   ]
  },
  {
   "cell_type": "code",
   "execution_count": 9,
   "id": "cd29f4d9-1d3d-431f-8b81-52be3ef154a4",
   "metadata": {},
   "outputs": [],
   "source": [
    "pl = payload(MODEL = MODEL, chat_history = chat_history, stream = False)"
   ]
  },
  {
   "cell_type": "code",
   "execution_count": 10,
   "id": "0a10121b-7868-4bcb-a0d9-0831a35f0764",
   "metadata": {},
   "outputs": [],
   "source": [
    "response = cached_ollama_post_request(OLLAMA_API =OLLAMA_API, json=pl, headers=HEADERS)"
   ]
  },
  {
   "cell_type": "code",
   "execution_count": 11,
   "id": "28d12074-ee42-4936-8139-800affbf98e9",
   "metadata": {},
   "outputs": [
    {
     "data": {
      "text/plain": [
       "requests.models.Response"
      ]
     },
     "execution_count": 11,
     "metadata": {},
     "output_type": "execute_result"
    }
   ],
   "source": [
    "type(response)"
   ]
  },
  {
   "cell_type": "code",
   "execution_count": 12,
   "id": "e1b971f2-3873-414f-93f5-289fb9fa0d75",
   "metadata": {},
   "outputs": [
    {
     "data": {
      "text/plain": [
       "{'model': 'llama3.2',\n",
       " 'created_at': '2025-05-19T12:46:35.6744945Z',\n",
       " 'message': {'role': 'assistant',\n",
       "  'content': 'Generative AI has numerous business applications across various industries, including:\\n\\n1. **Content Creation**: Generative AI can generate high-quality content such as articles, social media posts, product descriptions, and more. This helps businesses save time and resources on content creation, while also providing a consistent tone and style.\\n\\n2. **Customer Service Chatbots**: Generative AI-powered chatbots can understand and respond to customer queries in real-time, improving customer service experience and reducing the workload of human customer support agents.\\n\\n3. **Marketing Automation**: Generative AI can help automate marketing campaigns by generating personalized product recommendations, email subject lines, and ad copy, leading to increased engagement and conversion rates.\\n\\n4. **Product Design and Development**: Generative AI can be used to design new products, generate 3D models, and even create prototypes, reducing the time and cost associated with traditional product development methods.\\n\\n5. **Financial Analysis and Predictive Modeling**: Generative AI can analyze large datasets to identify patterns and trends, providing valuable insights for businesses to make informed investment decisions and predict future market movements.\\n\\n6. **Image and Video Editing**: Generative AI can edit images and videos in real-time, allowing for faster and more efficient post-production workflows, reducing costs associated with human editors.\\n\\n7. **Recommendation Systems**: Generative AI-powered recommendation systems can suggest products or services to customers based on their past behavior and preferences, increasing the likelihood of a sale.\\n\\n8. **Cybersecurity Threat Analysis**: Generative AI can analyze network traffic patterns to identify potential security threats in real-time, helping businesses detect and respond to cyber-attacks more effectively.\\n\\n9. **Language Translation**: Generative AI-powered language translation tools can translate text and speech in real-time, improving communication between businesses and international customers or partners.\\n\\n10. **Supply Chain Optimization**: Generative AI can analyze supply chain data to identify bottlenecks and opportunities for improvement, helping businesses optimize their logistics and reduce costs.\\n\\n11. **Predictive Maintenance**: Generative AI can analyze sensor data from machines to predict when maintenance is required, reducing downtime and increasing overall equipment effectiveness.\\n\\n12. **Data Annotation and Labeling**: Generative AI can automatically annotate and label data, reducing the time and cost associated with manual data labeling tasks.\\n\\n13. **Speech Recognition and Transcription**: Generative AI-powered speech recognition tools can transcribe spoken language into text in real-time, improving communication between businesses and customers.\\n\\n14. **Creative Writing and Storytelling**: Generative AI can generate creative content such as stories, poems, or even entire scripts, helping businesses tap into the power of artificial creativity.\\n\\n15. **Music and Audio Generation**: Generative AI can create original music tracks or audio elements in real-time, opening up new opportunities for businesses to create engaging multimedia experiences.\\n\\nThese are just a few examples of the many business applications of Generative AI. As the technology continues to evolve, we can expect to see even more innovative uses across various industries.'},\n",
       " 'done_reason': 'stop',\n",
       " 'done': True,\n",
       " 'total_duration': 69315554100,\n",
       " 'load_duration': 69828700,\n",
       " 'prompt_eval_count': 35,\n",
       " 'prompt_eval_duration': 122613500,\n",
       " 'eval_count': 599,\n",
       " 'eval_duration': 69121959200}"
      ]
     },
     "execution_count": 12,
     "metadata": {},
     "output_type": "execute_result"
    }
   ],
   "source": [
    "response.json()"
   ]
  },
  {
   "cell_type": "code",
   "execution_count": 13,
   "id": "a29daf0d-b6bd-44e2-ae30-fe69bbc1fda4",
   "metadata": {},
   "outputs": [],
   "source": [
    "cached_response = cached_ollama_post_request(OLLAMA_API =OLLAMA_API, json=pl, headers=HEADERS)"
   ]
  },
  {
   "cell_type": "code",
   "execution_count": 14,
   "id": "88e9e578-0220-4580-aeb5-108ca10dc470",
   "metadata": {},
   "outputs": [
    {
     "data": {
      "text/plain": [
       "requests.models.Response"
      ]
     },
     "execution_count": 14,
     "metadata": {},
     "output_type": "execute_result"
    }
   ],
   "source": [
    "type(cached_response)"
   ]
  },
  {
   "cell_type": "code",
   "execution_count": 15,
   "id": "574514d3-d253-45ee-a951-862d3748fbf1",
   "metadata": {},
   "outputs": [
    {
     "data": {
      "text/plain": [
       "True"
      ]
     },
     "execution_count": 15,
     "metadata": {},
     "output_type": "execute_result"
    }
   ],
   "source": [
    "cached_response.json() == response.json()"
   ]
  },
  {
   "cell_type": "code",
   "execution_count": 16,
   "id": "679411a0-9e9f-4194-b61c-bcddd73158d6",
   "metadata": {},
   "outputs": [
    {
     "data": {
      "text/markdown": [
       "Generative AI has numerous business applications across various industries, including:\n",
       "\n",
       "1. **Content Creation**: Generative AI can generate high-quality content such as articles, social media posts, product descriptions, and more. This helps businesses save time and resources on content creation, while also providing a consistent tone and style.\n",
       "\n",
       "2. **Customer Service Chatbots**: Generative AI-powered chatbots can understand and respond to customer queries in real-time, improving customer service experience and reducing the workload of human customer support agents.\n",
       "\n",
       "3. **Marketing Automation**: Generative AI can help automate marketing campaigns by generating personalized product recommendations, email subject lines, and ad copy, leading to increased engagement and conversion rates.\n",
       "\n",
       "4. **Product Design and Development**: Generative AI can be used to design new products, generate 3D models, and even create prototypes, reducing the time and cost associated with traditional product development methods.\n",
       "\n",
       "5. **Financial Analysis and Predictive Modeling**: Generative AI can analyze large datasets to identify patterns and trends, providing valuable insights for businesses to make informed investment decisions and predict future market movements.\n",
       "\n",
       "6. **Image and Video Editing**: Generative AI can edit images and videos in real-time, allowing for faster and more efficient post-production workflows, reducing costs associated with human editors.\n",
       "\n",
       "7. **Recommendation Systems**: Generative AI-powered recommendation systems can suggest products or services to customers based on their past behavior and preferences, increasing the likelihood of a sale.\n",
       "\n",
       "8. **Cybersecurity Threat Analysis**: Generative AI can analyze network traffic patterns to identify potential security threats in real-time, helping businesses detect and respond to cyber-attacks more effectively.\n",
       "\n",
       "9. **Language Translation**: Generative AI-powered language translation tools can translate text and speech in real-time, improving communication between businesses and international customers or partners.\n",
       "\n",
       "10. **Supply Chain Optimization**: Generative AI can analyze supply chain data to identify bottlenecks and opportunities for improvement, helping businesses optimize their logistics and reduce costs.\n",
       "\n",
       "11. **Predictive Maintenance**: Generative AI can analyze sensor data from machines to predict when maintenance is required, reducing downtime and increasing overall equipment effectiveness.\n",
       "\n",
       "12. **Data Annotation and Labeling**: Generative AI can automatically annotate and label data, reducing the time and cost associated with manual data labeling tasks.\n",
       "\n",
       "13. **Speech Recognition and Transcription**: Generative AI-powered speech recognition tools can transcribe spoken language into text in real-time, improving communication between businesses and customers.\n",
       "\n",
       "14. **Creative Writing and Storytelling**: Generative AI can generate creative content such as stories, poems, or even entire scripts, helping businesses tap into the power of artificial creativity.\n",
       "\n",
       "15. **Music and Audio Generation**: Generative AI can create original music tracks or audio elements in real-time, opening up new opportunities for businesses to create engaging multimedia experiences.\n",
       "\n",
       "These are just a few examples of the many business applications of Generative AI. As the technology continues to evolve, we can expect to see even more innovative uses across various industries."
      ],
      "text/plain": [
       "<IPython.core.display.Markdown object>"
      ]
     },
     "execution_count": 16,
     "metadata": {},
     "output_type": "execute_result"
    }
   ],
   "source": [
    "Markdown(response.json()['message']['content'])"
   ]
  },
  {
   "cell_type": "markdown",
   "id": "4d2825f6-2a6e-4567-9f13-2f74a2b55926",
   "metadata": {},
   "source": [
    "# The Project - Web Summerizer"
   ]
  },
  {
   "cell_type": "markdown",
   "id": "c1ccf7a6-a010-426b-83da-bae881f54212",
   "metadata": {},
   "source": [
    "### Web Object - beautiful soup"
   ]
  },
  {
   "cell_type": "code",
   "execution_count": 17,
   "id": "b735406c-22d2-4dd7-97e4-ed3da1947e7d",
   "metadata": {},
   "outputs": [],
   "source": [
    "class Website:\n",
    "    url: str\n",
    "    title: str\n",
    "    content: str\n",
    "\n",
    "    def __init__(self, url):\n",
    "        self.url = url\n",
    "        response = requests.get(url)\n",
    "        soup = BeautifulSoup(response.content, 'html.parser')\n",
    "        self.title = soup.title.string if soup.title else \"Title not found\"\n",
    "\n",
    "        for irrelevant in soup.body(['script','style','img', 'input']):\n",
    "            irrelevant.decompose() # to remove these tags from the body\n",
    "\n",
    "        self.content = soup.body.get_text(separator = '\\n', strip = True)"
   ]
  },
  {
   "cell_type": "markdown",
   "id": "656e3140-415d-4a37-91ec-99e0cd27026b",
   "metadata": {},
   "source": [
    "### Ollama call"
   ]
  },
  {
   "cell_type": "code",
   "execution_count": 18,
   "id": "651c5af3-dac1-4e3a-a203-bb482fb8962d",
   "metadata": {},
   "outputs": [],
   "source": [
    "def user_prompt_for(website):\n",
    "    prompt = f'You are looking for a website titled: \\\"{website.title}\\\"\\n\\n'\n",
    "    prompt += f'the content of this website is as follows:\\n{website.content}\\n\\n'\n",
    "    prompt += 'Provide a summary for this website in markdown'\n",
    "    return user(prompt)"
   ]
  },
  {
   "cell_type": "code",
   "execution_count": 19,
   "id": "b6b86f92-91c4-4d04-8dec-8c6178ba8cea",
   "metadata": {},
   "outputs": [],
   "source": [
    "chat_history_WS = [\n",
    "    system('You are an assitant tool that analyzes a website content,\\\n",
    "                        and provides a summery. Ignore text that might be navigation related.\\\n",
    "                        Respond in Markdown.')\n",
    "]"
   ]
  },
  {
   "cell_type": "code",
   "execution_count": 20,
   "id": "349e14f0-4299-4832-bec9-578f5b11de32",
   "metadata": {},
   "outputs": [],
   "source": [
    "chat_history_WS.append(user_prompt_for(Website('https://www.lookmovie2.to/movies/page/6')))"
   ]
  },
  {
   "cell_type": "code",
   "execution_count": 21,
   "id": "bf148102-5b73-4b8e-99d5-2d3ea20b2987",
   "metadata": {},
   "outputs": [],
   "source": [
    "OLLAMA_API = \"http://localhost:11434/api/chat\"\n",
    "HEADERS = {\"Content-Type\": \"application/json\"}\n",
    "MODEL = \"llama3.2\"\n",
    "\n",
    "payload_WS = payload(MODEL = MODEL, chat_history = chat_history_WS, stream = False)"
   ]
  },
  {
   "cell_type": "code",
   "execution_count": 22,
   "id": "d55481f0-ba50-43ff-b7ea-87486e31399c",
   "metadata": {},
   "outputs": [],
   "source": [
    "response = cached_ollama_post_request(OLLAMA_API = OLLAMA_API, json=payload_WS, headers=HEADERS)"
   ]
  },
  {
   "cell_type": "code",
   "execution_count": 23,
   "id": "a0734283-5e1a-42b3-b9d2-461004df292a",
   "metadata": {},
   "outputs": [
    {
     "data": {
      "text/markdown": [
       "# Website Summary: WatchlatestMovies2\n",
       "\n",
       "## Overview\n",
       "\n",
       "Watchlatestmovies2 is a free movie and TV shows streaming site with over 50,000 titles to choose from. No registration or payment is required to watch content online.\n",
       "\n",
       "## Features\n",
       "\n",
       "* Over 50,000 movies and TV shows available for streaming\n",
       "* No registration or payment required\n",
       "* Ability to bookmark and share full episodes for later viewing\n",
       "* Contact us page for support and feedback\n",
       "\n",
       "## User Experience\n",
       "\n",
       "The website features a simple navigation menu with sections for movies and TV shows. The content is displayed in a list format, with each title including its rating, release year, and genre.\n",
       "\n",
       "## Technical Details\n",
       "\n",
       "* Website URL: [not provided]\n",
       "* Page structure: Simple navigation menu with list-based content display\n",
       "* User interface: Basic text-based interface\n",
       "\n",
       "## Potential Security Concerns\n",
       "\n",
       "* Lack of registration or payment required may indicate a potential security risk\n",
       "* Contact us page appears to be functional but may not provide adequate support for users"
      ],
      "text/plain": [
       "<IPython.core.display.Markdown object>"
      ]
     },
     "execution_count": 23,
     "metadata": {},
     "output_type": "execute_result"
    }
   ],
   "source": [
    "Markdown(response.json()['message']['content'])"
   ]
  },
  {
   "cell_type": "code",
   "execution_count": 24,
   "id": "c5e61b4f-ab11-49e9-a4f9-2b037b9c9ccc",
   "metadata": {},
   "outputs": [],
   "source": [
    "chat_history_WS.append(assistant(response.json()['message']['content']))\n",
    "chat_history_WS.append(user('summerize all the movies and their ratings from the heighest to the lowest. Notice that every movie has its ratings above its name'))"
   ]
  },
  {
   "cell_type": "code",
   "execution_count": 25,
   "id": "97d68cf8-f99e-4383-b896-d4b08621ee3c",
   "metadata": {},
   "outputs": [],
   "source": [
    "payload_WS2 = payload(MODEL = MODEL, chat_history = chat_history_WS, stream = False)\n",
    "response = cached_ollama_post_request(OLLAMA_API = OLLAMA_API, json=payload_WS2, headers=HEADERS)"
   ]
  },
  {
   "cell_type": "code",
   "execution_count": 26,
   "id": "e61a6650-2910-4e8d-b6d1-815332f160a3",
   "metadata": {},
   "outputs": [
    {
     "data": {
      "text/markdown": [
       "# Movies Summary: WatchlatestMovies2\n",
       "\n",
       "## Ranked Movies by Rating (Highest to Lowest)\n",
       "\n",
       "1. **8.4 / 10** - TinMan (2024, FHD)\n",
       "2. **7.6 / 10** - Maharaja (2020, FHD)\n",
       "3. **7.3 / 10** - Snow White (2024, FHD)\n",
       "4. **7.1 / 10** - How Deep Is the Ocean (2023, FHD)\n",
       "5. **7.0 / 10** - Artie Shaw: Time Is All You've Got (1985, FHD)\n",
       "6. **7.0 / 10** - The Devil Comes to Kansas City (2022, FHD)\n",
       "7. **6.9 / 10** - Love in the Clouds (2025, FHD)\n",
       "8. **6.8 / 10** - Catalyst (2024, FHD)\n",
       "9. **6.7 / 10** - Britain and the Blitz (2025, FHD)\n",
       "10. **6.6 / 10** - Steve Rannazzisi: Manchild (2013, FHD)\n",
       "11. **6.6 / 10** - The Half-Breed (1916, FHD)\n",
       "12. **6.5 / 10** - The Accidental Getaway Driver (2025, FHD)\n",
       "13. **6.4 / 10** - Mahjong King (2022, HD) [ missing from original content]\n",
       "14. **6.2 / 10** - Maybe Forever (2024, FHD)\n",
       "15. **6.2 / 10** - Roy Orbison Forever (2023, FHD)\n",
       "16. **6.1 / 10** - Artie Shaw: Time Is All You've Got (1985, FHD) [ duplicate entry]\n",
       "17. **6.0 / 10** - Vini Jr. (2023, FHD)\n",
       "18. **6.0 / 10** - Sentimentaaal (2025, FHD)\n",
       "19. **6.0 / 10** - How Deep Is the Ocean (2024, FHD) [ duplicate entry]\n",
       "20. **5.9 / 10** - A Minecraft Movie (2023, FHD)\n",
       "\n",
       "... and many more movies with lower ratings.\n",
       "\n",
       "## Note:\n",
       "\n",
       "The list above only includes movies mentioned in the original content and may not be a comprehensive list of all available movies on WatchlatestMovies2."
      ],
      "text/plain": [
       "<IPython.core.display.Markdown object>"
      ]
     },
     "execution_count": 26,
     "metadata": {},
     "output_type": "execute_result"
    }
   ],
   "source": [
    "Markdown(response.json()['message']['content'])"
   ]
  },
  {
   "cell_type": "markdown",
   "id": "2509f6fd-f672-4212-a294-56006b6525fb",
   "metadata": {},
   "source": [
    "# Other Approches"
   ]
  },
  {
   "cell_type": "markdown",
   "id": "da85304d-aaeb-497e-a6a7-1c3021b043d5",
   "metadata": {},
   "source": [
    "### 1. Ollama Package"
   ]
  },
  {
   "cell_type": "code",
   "execution_count": 27,
   "id": "853ce6f5-99b9-4e8f-96b9-55573c07cc51",
   "metadata": {},
   "outputs": [],
   "source": [
    "import ollama\n",
    "# response = ollama.chat(model = MODEL, messages = chat_history)\n",
    "# print(response['message']['content'])"
   ]
  },
  {
   "cell_type": "markdown",
   "id": "191eb08d-a210-43b9-846b-6510fad7a8a1",
   "metadata": {},
   "source": [
    "### 2. OpenAI ChatCompletions endpoint"
   ]
  },
  {
   "cell_type": "code",
   "execution_count": 28,
   "id": "46837fe7-b5c2-4f87-88c0-ba41e0077148",
   "metadata": {},
   "outputs": [],
   "source": [
    "from openai import OpenAI\n",
    "\n",
    "ollama_via_openai = OpenAI(base_url = 'http://localhost:11434/v1', api_key = 'ollama')\n",
    "# response = ollama_via_openai.chat.completions.create(model = MODEL, messages = chat_history)\n",
    "# print(respnse.choices[0].message.content)"
   ]
  },
  {
   "cell_type": "markdown",
   "id": "5ddcbeb8-d617-431b-aa58-71b94d274acb",
   "metadata": {},
   "source": [
    "### 3. OpenAI ChatCompletions endpoint with DeepSeek model"
   ]
  },
  {
   "cell_type": "code",
   "execution_count": 29,
   "id": "15f530e2-5182-408d-8f8c-22c76f29133c",
   "metadata": {},
   "outputs": [
    {
     "name": "stderr",
     "output_type": "stream",
     "text": [
      "\u001b[?2026h\u001b[?25l\u001b[1Gpulling manifest â ‹ \u001b[K\u001b[?25h\u001b[?2026l\u001b[?2026h\u001b[?25l\u001b[1Gpulling manifest â ™ \u001b[K\u001b[?25h\u001b[?2026l\u001b[?2026h\u001b[?25l\u001b[1Gpulling manifest â ¹ \u001b[K\u001b[?25h\u001b[?2026l\u001b[?2026h\u001b[?25l\u001b[1Gpulling manifest â ¸ \u001b[K\u001b[?25h\u001b[?2026l\u001b[?2026h\u001b[?25l\u001b[1Gpulling manifest â ¼ \u001b[K\u001b[?25h\u001b[?2026l\u001b[?2026h\u001b[?25l\u001b[1Gpulling manifest â ´ \u001b[K\u001b[?25h\u001b[?2026l\u001b[?2026h\u001b[?25l\u001b[1Gpulling manifest â ¦ \u001b[K\u001b[?25h\u001b[?2026l\u001b[?2026h\u001b[?25l\u001b[1Gpulling manifest â § \u001b[K\u001b[?25h\u001b[?2026l\u001b[?2026h\u001b[?25l\u001b[1Gpulling manifest â ‡ \u001b[K\u001b[?25h\u001b[?2026l\u001b[?2026h\u001b[?25l\u001b[1Gpulling manifest â � \u001b[K\u001b[?25h\u001b[?2026l\u001b[?2026h\u001b[?25l\u001b[1Gpulling manifest â ‹ \u001b[K\u001b[?25h\u001b[?2026l\u001b[?2026h\u001b[?25l\u001b[1Gpulling manifest â ™ \u001b[K\u001b[?25h\u001b[?2026l\u001b[?2026h\u001b[?25l\u001b[1Gpulling manifest \u001b[K\n",
      "pulling aabd4debf0c8... 100% â–•â–ˆâ–ˆâ–ˆâ–ˆâ–ˆâ–ˆâ–ˆâ–ˆâ–ˆâ–ˆâ–ˆâ–ˆâ–ˆâ–ˆâ–ˆâ–ˆâ–� 1.1 GB                         \u001b[K\n",
      "pulling 369ca498f347... 100% â–•â–ˆâ–ˆâ–ˆâ–ˆâ–ˆâ–ˆâ–ˆâ–ˆâ–ˆâ–ˆâ–ˆâ–ˆâ–ˆâ–ˆâ–ˆâ–ˆâ–�  387 B                         \u001b[K\n",
      "pulling 6e4c38e1172f... 100% â–•â–ˆâ–ˆâ–ˆâ–ˆâ–ˆâ–ˆâ–ˆâ–ˆâ–ˆâ–ˆâ–ˆâ–ˆâ–ˆâ–ˆâ–ˆâ–ˆâ–� 1.1 KB                         \u001b[K\n",
      "pulling f4d24e9138dd... 100% â–•â–ˆâ–ˆâ–ˆâ–ˆâ–ˆâ–ˆâ–ˆâ–ˆâ–ˆâ–ˆâ–ˆâ–ˆâ–ˆâ–ˆâ–ˆâ–ˆâ–�  148 B                         \u001b[K\n",
      "pulling a85fe2a2e58e... 100% â–•â–ˆâ–ˆâ–ˆâ–ˆâ–ˆâ–ˆâ–ˆâ–ˆâ–ˆâ–ˆâ–ˆâ–ˆâ–ˆâ–ˆâ–ˆâ–ˆâ–�  487 B                         \u001b[K\n",
      "verifying sha256 digest \u001b[K\n",
      "writing manifest \u001b[K\n",
      "success \u001b[K\u001b[?25h\u001b[?2026l\n"
     ]
    }
   ],
   "source": [
    "!ollama pull deepseek-r1:1.5b"
   ]
  },
  {
   "cell_type": "code",
   "execution_count": 30,
   "id": "989686b4-bbc5-4834-bbd2-f88520c2947a",
   "metadata": {},
   "outputs": [
    {
     "name": "stdout",
     "output_type": "stream",
     "text": [
      "<think>\n",
      "Okay, so I'm trying to understand the business applications of generative AI. From what I've heard before, generative AI is great at creating things like text, images, and even music. But how exactly can businesses use this? Let me think through it step by step.\n",
      "\n",
      "First, maybe in marketing. If a company wants to target specific customer segments more effectively, they could generate emails or ads tailored to what each group likes. So instead of random stuff that might not resonate with any audience, the AI creates something meaningful. That makes sense because customers might have unique preferences.\n",
      "\n",
      "Then there's e-commerce. I know some companies use recommendation algorithms—like when you search for a product and see which ones are probably related. Generative AI could expand on that by creating personalized gift items or suggesting similar products based on styles. How would that work? Maybe by analyzing the user's last浏览内容, using patterns to suggest what looks good together.\n",
      "\n",
      "Another area could be content curation. Content creators might use this for free stuff—like generates can be used for art, tech parts, decorations. It adds value where there was nothing before. For example, a content creator in fashion who usually sells only new collections could maybe create promotional graphics to showcase old models online.\n",
      "\n",
      "In sports, it's probably about creating content like videos or merchandise. People love seeing real stories behind what they watch. Companies could adapt existing videos into educational formats for free audiences. Maybe even live streaming content where AI knows how the audience will engage, making shows more vibrant and engaging automatically.\n",
      "\n",
      "Personalized services are a big one too. For instance, personal loans might offer tailored advice based on someone's financial history. Generative AI can predict risks or possible issues without asking, which is confidential. It also can assess job opportunities through resumes—like suggesting roles someone could have in different industries even if the experience isn't listed.\n",
      "\n",
      "Social media is another area I've seen companies trying out. Personalized content like posts on Tesla Cybertruck videos might reach many people quickly because it's engaging. Influencers could showcase real-world applications from around the world, which helps expand their reach.\n",
      "\n",
      "Scheduling seems more traditional but can be modern with GAGA (genetic algorithm for assignment problems). This would optimize tasks by reducing costs or improving efficiency in scheduling jobs at the most cost-effective times or using resources better.\n",
      "\n",
      "Healthcare and education must have ways to leverage this. In teaching, virtual reality could help students explore concepts visually without seeing 3D objects physically. For healthcare, generating medical images like X-rays from CT scans could offer free access for everyone or highlight issues earlier, helping doctors make better decisions.\n",
      "\n",
      "Cannetworks might be in the works. AI-driven products that track agricultural plants remotely using satellite data, making it easier to manage crop yields and water resources without turning fertilizers into money. That's a big win because you save on fertilizer expenses.\n",
      "\n",
      "Autonomous vehicles would benefit from real-time data showing future scenarios. When testing self-driving cars, they can predict what might happen around corners or traffic jams ahead—allowing them to adjust their paths slightly before reacting too much to sudden events.\n",
      "\n",
      "In advertising, spotlighting content that directly aligns with user interests could drive higher engagement and more conversions. Instead of just clicking through ads randomly, AI personalizes which links users click on, making campaigns more effective by targeting exactly who they want to reach.\n",
      "\n",
      "Healthcare dashboards could use medical imaging like CT scans but without the cost so patients can access important information better—potentially before it's too late for treatment or recovery. This helps doctors make more informed decisions.\n",
      "\n",
      "Lastly, content creation plays a role in entertainment. Personal stories through videos add depth beyond just showing something; their impact is richer, affecting people on an emotional level that ads might not reach the same way.\n",
      "\n",
      "Putting all of this together, I think generative AI has a wide range of applications across various industries. It's making products and services more relevant, engaging, and cost-effective for users. Companies are starting to see results by leveraging these capabilities, which makes businesses both innovative and efficient.\n",
      "</think>\n",
      "\n",
      "Generative AI is revolutionizing various industries by enhancing relevance, engagement, and efficiency. Here are some key business applications across multiple sectors:\n",
      "\n",
      "1. **Marketing**:\n",
      "   - Personalized marketing: Tailored customer-specific offers based on preferences.\n",
      "   - Content recommendation: Predictive insights for relevance in online content submissions.\n",
      "\n",
      "2. **E-commerce**:\n",
      "   - Personalized gift items and recommendations using last浏览内容 patterns.\n",
      "   - E-commerce recommendations enhancing shopping experience.\n",
      "\n",
      "3. **Content Curation**:\n",
      "   - Personalized gifts and art for new collections, offering value where there was nothing before.\n",
      "   - Virtual reality videos on automotive subjects to reach millions quickly.\n",
      "\n",
      "4. **Sports**:\n",
      "   - Updated video content for educational use, leveraging real content without fees.\n",
      "   - Live streaming optimizations with AI-driven engagement.\n",
      "\n",
      "5. **Personalized Services**:\n",
      "   - Financial advice tailored by credit history and security features.\n",
      "   - Job placement insights based on resumes adjusted as they grow.\n",
      "\n",
      "6. **Social Media**:\n",
      "   - Personal posts to reach a wide audience instantly.\n",
      "   - Influencer showcases from diverse regions aiding mass awareness.\n",
      "\n",
      "7. **Scheduling**:\n",
      "   - Optimal task scheduling using GAGA for cost and efficiency reduction.\n",
      "\n",
      "8. **Healthcare and Education**:\n",
      "   - Visual exploration of teaching concepts via VR simulations.\n",
      "   - Medical imaging tools that enhance accessibility, saving costs in healthcare.\n",
      "\n",
      "9. **Cannetworks**:\n",
      "   - Real-time agricultural data tracking from satellites to reduce fertilizer expenses.\n",
      "\n",
      "10. **Autonomous Vehicles**:\n",
      "    - Predictive road scenarios during testing to guide safer navigation.\n",
      "\n",
      "11. **Advertising**:\n",
      "    - Spelling targeted clicks improving ROI and user engagement.\n",
      "\n",
      "12. **Healthcare Dashboards**:\n",
      "    - Access medical images without upfront costs, aiding in timely treatment and recovery.\n",
      "\n",
      "13. **Content Creation**:\n",
      "    - Rich, emotionally engaging content that resonates beyond ads on platforms like YouTube.\n",
      "\n",
      "By leveraging generative AI, businesses are enhancing product relevance, engagement, and efficiency, driving innovation and cost savings across industries.\n"
     ]
    }
   ],
   "source": [
    "response = ollama_via_openai.chat.completions.create(model=\"deepseek-r1:1.5b\", messages=chat_history)\n",
    "print(response.choices[0].message.content)"
   ]
  },
  {
   "cell_type": "code",
   "execution_count": 31,
   "id": "c950c9b2-9aed-4c23-98e0-447088feb71d",
   "metadata": {},
   "outputs": [
    {
     "data": {
      "text/markdown": [
       "<think>\n",
       "Okay, so I'm trying to understand the business applications of generative AI. From what I've heard before, generative AI is great at creating things like text, images, and even music. But how exactly can businesses use this? Let me think through it step by step.\n",
       "\n",
       "First, maybe in marketing. If a company wants to target specific customer segments more effectively, they could generate emails or ads tailored to what each group likes. So instead of random stuff that might not resonate with any audience, the AI creates something meaningful. That makes sense because customers might have unique preferences.\n",
       "\n",
       "Then there's e-commerce. I know some companies use recommendation algorithms—like when you search for a product and see which ones are probably related. Generative AI could expand on that by creating personalized gift items or suggesting similar products based on styles. How would that work? Maybe by analyzing the user's last浏览内容, using patterns to suggest what looks good together.\n",
       "\n",
       "Another area could be content curation. Content creators might use this for free stuff—like generates can be used for art, tech parts, decorations. It adds value where there was nothing before. For example, a content creator in fashion who usually sells only new collections could maybe create promotional graphics to showcase old models online.\n",
       "\n",
       "In sports, it's probably about creating content like videos or merchandise. People love seeing real stories behind what they watch. Companies could adapt existing videos into educational formats for free audiences. Maybe even live streaming content where AI knows how the audience will engage, making shows more vibrant and engaging automatically.\n",
       "\n",
       "Personalized services are a big one too. For instance, personal loans might offer tailored advice based on someone's financial history. Generative AI can predict risks or possible issues without asking, which is confidential. It also can assess job opportunities through resumes—like suggesting roles someone could have in different industries even if the experience isn't listed.\n",
       "\n",
       "Social media is another area I've seen companies trying out. Personalized content like posts on Tesla Cybertruck videos might reach many people quickly because it's engaging. Influencers could showcase real-world applications from around the world, which helps expand their reach.\n",
       "\n",
       "Scheduling seems more traditional but can be modern with GAGA (genetic algorithm for assignment problems). This would optimize tasks by reducing costs or improving efficiency in scheduling jobs at the most cost-effective times or using resources better.\n",
       "\n",
       "Healthcare and education must have ways to leverage this. In teaching, virtual reality could help students explore concepts visually without seeing 3D objects physically. For healthcare, generating medical images like X-rays from CT scans could offer free access for everyone or highlight issues earlier, helping doctors make better decisions.\n",
       "\n",
       "Cannetworks might be in the works. AI-driven products that track agricultural plants remotely using satellite data, making it easier to manage crop yields and water resources without turning fertilizers into money. That's a big win because you save on fertilizer expenses.\n",
       "\n",
       "Autonomous vehicles would benefit from real-time data showing future scenarios. When testing self-driving cars, they can predict what might happen around corners or traffic jams ahead—allowing them to adjust their paths slightly before reacting too much to sudden events.\n",
       "\n",
       "In advertising, spotlighting content that directly aligns with user interests could drive higher engagement and more conversions. Instead of just clicking through ads randomly, AI personalizes which links users click on, making campaigns more effective by targeting exactly who they want to reach.\n",
       "\n",
       "Healthcare dashboards could use medical imaging like CT scans but without the cost so patients can access important information better—potentially before it's too late for treatment or recovery. This helps doctors make more informed decisions.\n",
       "\n",
       "Lastly, content creation plays a role in entertainment. Personal stories through videos add depth beyond just showing something; their impact is richer, affecting people on an emotional level that ads might not reach the same way.\n",
       "\n",
       "Putting all of this together, I think generative AI has a wide range of applications across various industries. It's making products and services more relevant, engaging, and cost-effective for users. Companies are starting to see results by leveraging these capabilities, which makes businesses both innovative and efficient.\n",
       "</think>\n",
       "\n",
       "Generative AI is revolutionizing various industries by enhancing relevance, engagement, and efficiency. Here are some key business applications across multiple sectors:\n",
       "\n",
       "1. **Marketing**:\n",
       "   - Personalized marketing: Tailored customer-specific offers based on preferences.\n",
       "   - Content recommendation: Predictive insights for relevance in online content submissions.\n",
       "\n",
       "2. **E-commerce**:\n",
       "   - Personalized gift items and recommendations using last浏览内容 patterns.\n",
       "   - E-commerce recommendations enhancing shopping experience.\n",
       "\n",
       "3. **Content Curation**:\n",
       "   - Personalized gifts and art for new collections, offering value where there was nothing before.\n",
       "   - Virtual reality videos on automotive subjects to reach millions quickly.\n",
       "\n",
       "4. **Sports**:\n",
       "   - Updated video content for educational use, leveraging real content without fees.\n",
       "   - Live streaming optimizations with AI-driven engagement.\n",
       "\n",
       "5. **Personalized Services**:\n",
       "   - Financial advice tailored by credit history and security features.\n",
       "   - Job placement insights based on resumes adjusted as they grow.\n",
       "\n",
       "6. **Social Media**:\n",
       "   - Personal posts to reach a wide audience instantly.\n",
       "   - Influencer showcases from diverse regions aiding mass awareness.\n",
       "\n",
       "7. **Scheduling**:\n",
       "   - Optimal task scheduling using GAGA for cost and efficiency reduction.\n",
       "\n",
       "8. **Healthcare and Education**:\n",
       "   - Visual exploration of teaching concepts via VR simulations.\n",
       "   - Medical imaging tools that enhance accessibility, saving costs in healthcare.\n",
       "\n",
       "9. **Cannetworks**:\n",
       "   - Real-time agricultural data tracking from satellites to reduce fertilizer expenses.\n",
       "\n",
       "10. **Autonomous Vehicles**:\n",
       "    - Predictive road scenarios during testing to guide safer navigation.\n",
       "\n",
       "11. **Advertising**:\n",
       "    - Spelling targeted clicks improving ROI and user engagement.\n",
       "\n",
       "12. **Healthcare Dashboards**:\n",
       "    - Access medical images without upfront costs, aiding in timely treatment and recovery.\n",
       "\n",
       "13. **Content Creation**:\n",
       "    - Rich, emotionally engaging content that resonates beyond ads on platforms like YouTube.\n",
       "\n",
       "By leveraging generative AI, businesses are enhancing product relevance, engagement, and efficiency, driving innovation and cost savings across industries."
      ],
      "text/plain": [
       "<IPython.core.display.Markdown object>"
      ]
     },
     "execution_count": 31,
     "metadata": {},
     "output_type": "execute_result"
    }
   ],
   "source": [
    "Markdown(response.choices[0].message.content)"
   ]
  }
 ],
 "metadata": {
  "kernelspec": {
   "display_name": "Python 3 (ipykernel)",
   "language": "python",
   "name": "python3"
  },
  "language_info": {
   "codemirror_mode": {
    "name": "ipython",
    "version": 3
   },
   "file_extension": ".py",
   "mimetype": "text/x-python",
   "name": "python",
   "nbconvert_exporter": "python",
   "pygments_lexer": "ipython3",
   "version": "3.11.12"
  }
 },
 "nbformat": 4,
 "nbformat_minor": 5
}
